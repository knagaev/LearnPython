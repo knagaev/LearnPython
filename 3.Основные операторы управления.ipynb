{
 "cells": [
  {
   "cell_type": "markdown",
   "metadata": {},
   "source": [
    "[Документация Python](https://docs.python.org/3.3/)"
   ]
  },
  {
   "cell_type": "markdown",
   "metadata": {},
   "source": [
    "# Оператор *if*"
   ]
  },
  {
   "cell_type": "markdown",
   "metadata": {},
   "source": [
    "---\n",
    "Однострочное выражение\n",
    "\n",
    "if <span style=\"color:green\">условие</span>: <span style=\"color:blue\">выражение_правда</span><br/>"
   ]
  },
  {
   "cell_type": "code",
   "execution_count": 49,
   "metadata": {},
   "outputs": [
    {
     "name": "stdout",
     "output_type": "stream",
     "text": [
      "a больше 3\n"
     ]
    }
   ],
   "source": [
    "a = 5\n",
    "if a > 3: print('a больше 3')"
   ]
  },
  {
   "cell_type": "markdown",
   "metadata": {},
   "source": [
    "---\n",
    "Многострочное\n",
    "\n",
    "if <span style=\"color:green\">условие</span>:<br/>\n",
    "&nbsp;&nbsp;&nbsp;&nbsp;<span style=\"color:blue\">выражение_правда1</span><br/>\n",
    "&nbsp;&nbsp;&nbsp;&nbsp;<span style=\"color:blue\">выражение_правда2</span>"
   ]
  },
  {
   "cell_type": "code",
   "execution_count": 50,
   "metadata": {},
   "outputs": [
    {
     "name": "stdout",
     "output_type": "stream",
     "text": [
      "это a\n",
      "и a больше 3\n"
     ]
    }
   ],
   "source": [
    "if a > 3: \n",
    "    print('это a')\n",
    "    print('и a больше 3')"
   ]
  },
  {
   "cell_type": "markdown",
   "metadata": {},
   "source": [
    "---\n",
    "Многострочное с блоком \"иначе\"\n",
    "\n",
    "if <span style=\"color:green\">условие</span>:<br/>\n",
    "&nbsp;&nbsp;&nbsp;&nbsp;<span style=\"color:blue\">выражение_правда1</span><br/>\n",
    "&nbsp;&nbsp;&nbsp;&nbsp;<span style=\"color:blue\">выражение_правда2</span><br/>\n",
    "else:<br/>\n",
    "&nbsp;&nbsp;&nbsp;&nbsp;<span style=\"color:blue\">выражение_ложь1</span><br/>\n",
    "&nbsp;&nbsp;&nbsp;&nbsp;<span style=\"color:blue\">выражение_ложь2</span>\n"
   ]
  },
  {
   "cell_type": "code",
   "execution_count": 51,
   "metadata": {},
   "outputs": [
    {
     "name": "stdout",
     "output_type": "stream",
     "text": [
      "это всё равно a\n",
      "но a больше 3\n"
     ]
    }
   ],
   "source": [
    "if a < 3: \n",
    "    print('это a')\n",
    "    print('и a меньше 3')\n",
    "else:\n",
    "    print('это всё равно a')\n",
    "    print('но a больше 3')"
   ]
  },
  {
   "cell_type": "markdown",
   "metadata": {},
   "source": [
    "---\n",
    "Многострочное с проверкой на другое условие блоком \"иначе\"\n",
    "\n",
    "if <span style=\"color:green\">условие_первое</span>:<br/>\n",
    "&nbsp;&nbsp;&nbsp;&nbsp;<span style=\"color:blue\">выражение_условие_первое_правда1</span><br/>\n",
    "&nbsp;&nbsp;&nbsp;&nbsp;<span style=\"color:blue\">выражение_условие_первое_правда2</span><br/>\n",
    "elif <span style=\"color:green\">условие_второе</span>:<br/>\n",
    "&nbsp;&nbsp;&nbsp;&nbsp;<span style=\"color:blue\">выражение_условие_второе_правда1</span><br/>\n",
    "&nbsp;&nbsp;&nbsp;&nbsp;<span style=\"color:blue\">выражение_условие_второе_правда2</span><br/>\n",
    "else:<br/>\n",
    "&nbsp;&nbsp;&nbsp;&nbsp;<span style=\"color:blue\">выражение_ложь1</span><br/>\n",
    "&nbsp;&nbsp;&nbsp;&nbsp;<span style=\"color:blue\">выражение_ложь2</span>"
   ]
  },
  {
   "cell_type": "code",
   "execution_count": 52,
   "metadata": {},
   "outputs": [
    {
     "name": "stdout",
     "output_type": "stream",
     "text": [
      "это a\n",
      "и a больше 3\n"
     ]
    }
   ],
   "source": [
    "if a > 3: \n",
    "    print('это a')\n",
    "    print('и a больше 3')\n",
    "elif a > 4: \n",
    "    print('это тоже a')\n",
    "    print('и a больше 4')\n",
    "else:\n",
    "    print('это всё равно a')\n",
    "    print('a не больше 3 и не больше 4')"
   ]
  },
  {
   "cell_type": "markdown",
   "metadata": {},
   "source": [
    "# Оператор *while*"
   ]
  },
  {
   "cell_type": "markdown",
   "metadata": {},
   "source": [
    "---\n",
    "\n",
    "while <span style=\"color:green\">условие</span>:<br/>\n",
    "&nbsp;&nbsp;&nbsp;&nbsp;<span style=\"color:blue\">выражение_правда1</span><br/>\n",
    "&nbsp;&nbsp;&nbsp;&nbsp;[break]<br/>\n",
    "&nbsp;&nbsp;&nbsp;&nbsp;<span style=\"color:blue\">выражение_правда2</span><br/>\n",
    "[else:<br/>\n",
    "&nbsp;&nbsp;&nbsp;&nbsp;<span style=\"color:blue\">выражение_ложь1</span><br/>\n",
    "&nbsp;&nbsp;&nbsp;&nbsp;<span style=\"color:blue\">выражение_ложь2</span>]"
   ]
  },
  {
   "cell_type": "code",
   "execution_count": 53,
   "metadata": {},
   "outputs": [
    {
     "name": "stdout",
     "output_type": "stream",
     "text": [
      "это a\n",
      "a = 5\n",
      "это a\n",
      "a = 4\n"
     ]
    }
   ],
   "source": [
    "a = 5\n",
    "while a > 3: \n",
    "    print('это a')\n",
    "    print('a = ' + str(a))\n",
    "    a = a - 1 "
   ]
  },
  {
   "cell_type": "code",
   "execution_count": 54,
   "metadata": {},
   "outputs": [
    {
     "name": "stdout",
     "output_type": "stream",
     "text": [
      "это a\n",
      "a = 5\n",
      "это a\n",
      "a = 4\n",
      "это всё равно a\n",
      "но а не больше 3\n"
     ]
    }
   ],
   "source": [
    "a = 5\n",
    "while a > 3: \n",
    "    print('это a')\n",
    "    print('a = ' + str(a))\n",
    "    a = a - 1 \n",
    "else:\n",
    "    print('это всё равно a')\n",
    "    print('но а не больше 3')"
   ]
  },
  {
   "cell_type": "code",
   "execution_count": 55,
   "metadata": {},
   "outputs": [
    {
     "name": "stdout",
     "output_type": "stream",
     "text": [
      "это a\n",
      "a = 5\n",
      "это a\n",
      "a = 4\n",
      "это a\n",
      "a = 3\n"
     ]
    }
   ],
   "source": [
    "a = 5\n",
    "while a > 1:\n",
    "    if a < 3: break\n",
    "        \n",
    "    print('это a')\n",
    "    print('a = ' + str(a))\n",
    "\n",
    "    a = a - 1 \n",
    "else:\n",
    "    print('это всё равно a')\n",
    "    print('но а не больше 3')"
   ]
  },
  {
   "cell_type": "markdown",
   "metadata": {},
   "source": [
    "# Оператор *for*"
   ]
  },
  {
   "cell_type": "markdown",
   "metadata": {},
   "source": [
    "---\n",
    "\n",
    "for <span style=\"color:green\">переменная</span> in <span style=\"color:green\">список</span>:<br/>\n",
    "&nbsp;&nbsp;&nbsp;&nbsp;<span style=\"color:blue\">выражение1</span><br/>\n",
    "&nbsp;&nbsp;&nbsp;&nbsp;[break]<br/>\n",
    "&nbsp;&nbsp;&nbsp;&nbsp;<span style=\"color:blue\">выражение2</span><br/>\n",
    "[else:<br/>\n",
    "&nbsp;&nbsp;&nbsp;&nbsp;<span style=\"color:blue\">выражение_ложь1</span><br/>\n",
    "&nbsp;&nbsp;&nbsp;&nbsp;<span style=\"color:blue\">выражение_ложь2</span>]"
   ]
  },
  {
   "cell_type": "code",
   "execution_count": 56,
   "metadata": {},
   "outputs": [
    {
     "name": "stdout",
     "output_type": "stream",
     "text": [
      "1\n",
      "2\n",
      "3\n"
     ]
    }
   ],
   "source": [
    "for i in [1, 2, 3]:\n",
    "    print(i)"
   ]
  },
  {
   "cell_type": "code",
   "execution_count": 57,
   "metadata": {},
   "outputs": [
    {
     "name": "stdout",
     "output_type": "stream",
     "text": [
      "4\n",
      "5\n",
      "6\n"
     ]
    }
   ],
   "source": [
    "l = [4, 5, 6]\n",
    "for i in l:\n",
    "    print(i)"
   ]
  },
  {
   "cell_type": "code",
   "execution_count": 58,
   "metadata": {},
   "outputs": [
    {
     "name": "stdout",
     "output_type": "stream",
     "text": [
      "0\n",
      "1\n",
      "2\n",
      "3\n",
      "4\n"
     ]
    }
   ],
   "source": [
    "for i in range(5):\n",
    "    print(i)"
   ]
  },
  {
   "cell_type": "code",
   "execution_count": 59,
   "metadata": {},
   "outputs": [
    {
     "name": "stdout",
     "output_type": "stream",
     "text": [
      "0\n",
      "1\n",
      "2\n",
      "3\n"
     ]
    }
   ],
   "source": [
    "for i in range(5):\n",
    "    if i > 3: break\n",
    "    print(i)"
   ]
  },
  {
   "cell_type": "code",
   "execution_count": 60,
   "metadata": {},
   "outputs": [
    {
     "name": "stdout",
     "output_type": "stream",
     "text": [
      "a\n",
      "b\n",
      "c\n",
      "d\n",
      "e\n",
      "f\n"
     ]
    }
   ],
   "source": [
    "for i in ['a', 'b', 'c', 'd', 'e', 'f']:\n",
    "    #if i > 3: break\n",
    "    print(i)"
   ]
  },
  {
   "cell_type": "code",
   "execution_count": 61,
   "metadata": {},
   "outputs": [
    {
     "name": "stdout",
     "output_type": "stream",
     "text": [
      "a\n",
      "b\n",
      "c\n",
      "d\n",
      "e\n",
      "f\n"
     ]
    }
   ],
   "source": [
    "for i in 'abcdef':\n",
    "    #if i > 'c': break\n",
    "    print(i)"
   ]
  },
  {
   "cell_type": "markdown",
   "metadata": {},
   "source": [
    "# Определение функций"
   ]
  },
  {
   "cell_type": "markdown",
   "metadata": {},
   "source": [
    "def <span style=\"color:green\">имя_функции</span>([<span style=\"color:green\">аргументы</span>]):<br/>\n",
    "&nbsp;&nbsp;&nbsp;&nbsp;<span style=\"color:blue\">выражение1</span><br/>\n",
    "&nbsp;&nbsp;&nbsp;&nbsp;<span style=\"color:blue\">выражение2</span><br/>\n",
    "&nbsp;&nbsp;&nbsp;&nbsp;[return <span style=\"color:green\">результат</span>]<br/>\n"
   ]
  },
  {
   "cell_type": "code",
   "execution_count": 62,
   "metadata": {},
   "outputs": [],
   "source": [
    "def currency_converter(amount, rate=61.46):\n",
    "    rouble_amount = amount * rate\n",
    "    return rouble_amount"
   ]
  },
  {
   "cell_type": "code",
   "execution_count": 63,
   "metadata": {},
   "outputs": [
    {
     "data": {
      "text/plain": [
       "614.6"
      ]
     },
     "execution_count": 63,
     "metadata": {},
     "output_type": "execute_result"
    }
   ],
   "source": [
    "currency_converter(10)"
   ]
  },
  {
   "cell_type": "code",
   "execution_count": 64,
   "metadata": {},
   "outputs": [
    {
     "data": {
      "text/plain": [
       "700"
      ]
     },
     "execution_count": 64,
     "metadata": {},
     "output_type": "execute_result"
    }
   ],
   "source": [
    "currency_converter(10, 70)"
   ]
  },
  {
   "cell_type": "code",
   "execution_count": 65,
   "metadata": {},
   "outputs": [
    {
     "data": {
      "text/plain": [
       "9219.0"
      ]
     },
     "execution_count": 65,
     "metadata": {},
     "output_type": "execute_result"
    }
   ],
   "source": [
    "i_have_dollars = 150\n",
    "so_i_have_roubles = currency_converter(150)\n",
    "so_i_have_roubles"
   ]
  },
  {
   "cell_type": "code",
   "execution_count": 66,
   "metadata": {},
   "outputs": [],
   "source": [
    "def can_buy_burgers(roubles, price=45):\n",
    "    return roubles // price, roubles % price"
   ]
  },
  {
   "cell_type": "code",
   "execution_count": 67,
   "metadata": {},
   "outputs": [
    {
     "data": {
      "text/plain": [
       "(22, 10)"
      ]
     },
     "execution_count": 67,
     "metadata": {},
     "output_type": "execute_result"
    }
   ],
   "source": [
    "can_buy_burgers(1000)"
   ]
  },
  {
   "cell_type": "code",
   "execution_count": 68,
   "metadata": {},
   "outputs": [
    {
     "name": "stdout",
     "output_type": "stream",
     "text": [
      "I can buy 22 burgers and 10 roubles remain!\n"
     ]
    }
   ],
   "source": [
    "burgers, change = can_buy_burgers(1000)\n",
    "print(f'I can buy {burgers} burgers and {change} roubles remain!') "
   ]
  },
  {
   "cell_type": "code",
   "execution_count": 69,
   "metadata": {},
   "outputs": [
    {
     "name": "stdout",
     "output_type": "stream",
     "text": [
      "I can buy 13.0 burgers and 29.600000000000023 roubles remain!\n"
     ]
    }
   ],
   "source": [
    "burgers, change = can_buy_burgers(currency_converter(10))\n",
    "print(f'I can buy {burgers} burgers and {change} roubles remain!') "
   ]
  }
 ],
 "metadata": {
  "kernelspec": {
   "display_name": "Python 3",
   "language": "python",
   "name": "python3"
  },
  "language_info": {
   "codemirror_mode": {
    "name": "ipython",
    "version": 3
   },
   "file_extension": ".py",
   "mimetype": "text/x-python",
   "name": "python",
   "nbconvert_exporter": "python",
   "pygments_lexer": "ipython3",
   "version": "3.7.4"
  }
 },
 "nbformat": 4,
 "nbformat_minor": 2
}
