{
 "cells": [
  {
   "cell_type": "markdown",
   "metadata": {},
   "source": [
    "#### Постановка (ТЗ)\n",
    "Есть много файлов (фото) - их нужно пакетно переименовать. Заменить исходное название на название идентичное дате создания файла. Если дата создания отличается от другого файла не более, чем X минуты, то в конце/начале названия ставится символ R."
   ]
  },
  {
   "cell_type": "markdown",
   "metadata": {},
   "source": [
    "### Получение списка файлов в каталоге\n",
    "\n",
    "Google -> python list files in directory\n",
    "\n",
    "Stack Overflow\n",
    "\n",
    "https://stackoverflow.com/questions/3207219/how-do-i-list-all-files-of-a-directory"
   ]
  },
  {
   "cell_type": "code",
   "execution_count": 54,
   "metadata": {},
   "outputs": [],
   "source": [
    "# Первая попытка \n",
    "from os import listdir\n",
    "from os.path import isfile, join\n",
    "onlyfiles = [f for f in listdir(mypath) if isfile(join(mypath, f))]"
   ]
  },
  {
   "cell_type": "code",
   "execution_count": 55,
   "metadata": {},
   "outputs": [
    {
     "data": {
      "text/plain": [
       "['второй файл.txt', 'первый файл.txt', 'третий файл.txt']"
      ]
     },
     "execution_count": 55,
     "metadata": {},
     "output_type": "execute_result"
    }
   ],
   "source": [
    "# Добавляем переменную mypath, в которой будем передавать путь к каталогу (строка) \n",
    "from os import listdir\n",
    "from os.path import isfile, join\n",
    "\n",
    "mypath = '.\\\\rename_by_dates'\n",
    "\n",
    "onlyfiles = [f for f in listdir(mypath) if isfile(join(mypath, f))]\n",
    "onlyfiles"
   ]
  },
  {
   "cell_type": "markdown",
   "metadata": {},
   "source": [
    "Краткий экскурс в модули и пакеты Python\n",
    "\n",
    "Модуль - это код (функции, классы и т.д.) на Python, который можно импортировать в другие программы\n",
    "Самый простой способ импортировать модуль\n",
    "\n",
    "**import** <span style=\"color:green\">*имя_модуля_1*</span>, <span style=\"color:green\">*имя_модуля_2*</span>"
   ]
  },
  {
   "cell_type": "code",
   "execution_count": 56,
   "metadata": {},
   "outputs": [
    {
     "data": {
      "text/plain": [
       "120"
      ]
     },
     "execution_count": 56,
     "metadata": {},
     "output_type": "execute_result"
    }
   ],
   "source": [
    "import math\n",
    "math.factorial(5)"
   ]
  },
  {
   "cell_type": "markdown",
   "metadata": {},
   "source": [
    "также можно сделать alias к модулю\n",
    "\n",
    "**import** <span style=\"color:green\">*имя_модуля_1*</span> **as** <span style=\"color:green\">*alias*</span>"
   ]
  },
  {
   "cell_type": "code",
   "execution_count": 57,
   "metadata": {},
   "outputs": [
    {
     "data": {
      "text/plain": [
       "120"
      ]
     },
     "execution_count": 57,
     "metadata": {},
     "output_type": "execute_result"
    }
   ],
   "source": [
    "import math as m\n",
    "m.factorial(5)"
   ]
  },
  {
   "cell_type": "markdown",
   "metadata": {},
   "source": [
    "чтобы не писать имя модуля перед функциями, можно использовать такой синтаксис\n",
    "\n",
    "**from** <span style=\"color:green\">*имя_модуля*</span> **import** <span style=\"color:green\">*имя_функции_1*</span> [**as** <span style=\"color:green\">*alias_1*</span>], <span style=\"color:green\">*имя_функции_2*</span> [**as** <span style=\"color:green\">*alias_2*</span>]"
   ]
  },
  {
   "cell_type": "code",
   "execution_count": 58,
   "metadata": {},
   "outputs": [
    {
     "data": {
      "text/plain": [
       "120"
      ]
     },
     "execution_count": 58,
     "metadata": {},
     "output_type": "execute_result"
    }
   ],
   "source": [
    "from math import factorial\n",
    "factorial(5)"
   ]
  },
  {
   "cell_type": "code",
   "execution_count": 59,
   "metadata": {},
   "outputs": [
    {
     "data": {
      "text/plain": [
       "120"
      ]
     },
     "execution_count": 59,
     "metadata": {},
     "output_type": "execute_result"
    }
   ],
   "source": [
    "from math import factorial as my_fact\n",
    "my_fact(5)"
   ]
  },
  {
   "cell_type": "markdown",
   "metadata": {},
   "source": [
    "для ленивых\n",
    "\n",
    "**from** <span style=\"color:green\">*имя_модуля*</span> **import** *"
   ]
  },
  {
   "cell_type": "markdown",
   "metadata": {},
   "source": [
    "<details>\n",
    "    <summary><small>кому интересно чуть подробнее что такое модули и пакеты</small></summary>\n",
    "    \n",
    "* module\n",
    "\n",
    "the basic unit of code reusability in Python: a block of code imported by some other code. Three types of modules concern us here: pure Python modules, extension modules, and packages.\n",
    "* pure Python module\n",
    "\n",
    "a module written in Python and contained in a single .py file (and possibly associated .pyc and/or .pyo files). Sometimes referred to as a “pure module.”\n",
    "* extension module\n",
    "\n",
    "a module written in the low-level language of the Python implementation: C/C++ for Python, Java for Jython. Typically contained in a single dynamically loadable pre-compiled file, e.g. a shared object (.so) file for Python extensions on Unix, a DLL (given the .pyd extension) for Python extensions on Windows, or a Java class file for Jython extensions. (Note that currently, the Distutils only handles C/C++ extensions for Python.)\n",
    "* package\n",
    "\n",
    "a module that contains other modules; typically contained in a directory in the filesystem and distinguished from other directories by the presence of a file \\_\\_init\\_\\_.py.\n",
    "* root package\n",
    "\n",
    "the root of the hierarchy of packages. (This isn’t really a package, since it doesn’t have an __init__.py file. But we have to call it something.) The vast majority of the standard library is in the root package, as are many small, standalone third-party modules that don’t belong to a larger module collection. Unlike regular packages, modules in the root package can be found in many directories: in fact, every directory listed in sys.path contributes modules to the root package.\n",
    "</details>"
   ]
  },
  {
   "cell_type": "code",
   "execution_count": 100,
   "metadata": {},
   "outputs": [
    {
     "data": {
      "text/plain": [
       "['C:\\\\Users\\\\Knagaev\\\\Python\\\\LearnPython\\\\rename_by_dates\\\\второй файл.txt',\n",
       " 'C:\\\\Users\\\\Knagaev\\\\Python\\\\LearnPython\\\\rename_by_dates\\\\первый файл.txt',\n",
       " 'C:\\\\Users\\\\Knagaev\\\\Python\\\\LearnPython\\\\rename_by_dates\\\\третий файл.txt']"
      ]
     },
     "execution_count": 100,
     "metadata": {},
     "output_type": "execute_result"
    }
   ],
   "source": [
    "# Добавляем переменную mypath, в которой будем передавать путь к каталогу (строка) \n",
    "from os import listdir\n",
    "from os.path import isfile, join, abspath\n",
    "\n",
    "mypath = '.\\\\rename_by_dates'\n",
    "\n",
    "onlyfiles = [join(abspath(mypath), f) for f in listdir(mypath) if isfile(join(mypath, f))]\n",
    "onlyfiles"
   ]
  },
  {
   "cell_type": "markdown",
   "metadata": {},
   "source": [
    "### Получение даты создания файла\n",
    "Google -> python 3 file creation date\n",
    "\n",
    "https://stackoverflow.com/questions/237079/how-to-get-file-creation-modification-date-times-in-python"
   ]
  },
  {
   "cell_type": "code",
   "execution_count": 64,
   "metadata": {},
   "outputs": [
    {
     "data": {
      "text/plain": [
       "[1579680307.753561, 1579680307.753561, 1579680307.753561]"
      ]
     },
     "execution_count": 64,
     "metadata": {},
     "output_type": "execute_result"
    }
   ],
   "source": [
    "from os import listdir\n",
    "from os.path import isfile, join, getmtime\n",
    "\n",
    "mypath = '.\\\\rename_by_dates'\n",
    "\n",
    "file_dates = [getmtime(join(mypath, f)) for f in listdir(mypath) if isfile(join(mypath, f))]\n",
    "file_dates"
   ]
  },
  {
   "cell_type": "markdown",
   "metadata": {},
   "source": [
    "### Конвертация дат\n",
    "Google -> python 3 datetime conversion to string\n",
    "\n",
    "https://docs.python.org/3/library/datetime.html\n",
    "\n",
    "**strftime() and strptime() Behavior**\n",
    "\n",
    "date, datetime, and time objects all support a strftime(format) method, to create a string representing the time under the control of an explicit format string."
   ]
  },
  {
   "cell_type": "code",
   "execution_count": 66,
   "metadata": {},
   "outputs": [
    {
     "data": {
      "text/plain": [
       "['2020-01-22 11:05:07', '2020-01-22 11:05:07', '2020-01-22 11:05:07']"
      ]
     },
     "execution_count": 66,
     "metadata": {},
     "output_type": "execute_result"
    }
   ],
   "source": [
    "from os import listdir\n",
    "from os.path import isfile, join, getmtime\n",
    "from datetime import datetime\n",
    "\n",
    "mypath = '.\\\\rename_by_dates'\n",
    "\n",
    "file_dates = [datetime.fromtimestamp(getmtime(join(mypath, f))).strftime(\"%Y-%m-%d %H:%M:%S\") for f in listdir(mypath) if isfile(join(mypath, f))]\n",
    "file_dates"
   ]
  },
  {
   "cell_type": "code",
   "execution_count": 102,
   "metadata": {},
   "outputs": [
    {
     "data": {
      "text/plain": [
       "{'C:\\\\Users\\\\Knagaev\\\\Python\\\\LearnPython\\\\rename_by_dates\\\\второй файл.txt': '2020-01-22 11:05',\n",
       " 'C:\\\\Users\\\\Knagaev\\\\Python\\\\LearnPython\\\\rename_by_dates\\\\первый файл.txt': '2020-01-22 11:05',\n",
       " 'C:\\\\Users\\\\Knagaev\\\\Python\\\\LearnPython\\\\rename_by_dates\\\\третий файл.txt': '2020-01-22 11:12'}"
      ]
     },
     "execution_count": 102,
     "metadata": {},
     "output_type": "execute_result"
    }
   ],
   "source": [
    "from os import listdir\n",
    "from os.path import isfile, join, abspath, getmtime\n",
    "from datetime import datetime\n",
    "\n",
    "mypath = '.\\\\rename_by_dates'\n",
    "\n",
    "file_dateminutes = {join(abspath(mypath), f): datetime.fromtimestamp(getmtime(join(mypath, f))).strftime(\"%Y-%m-%d %H:%M\") for f in listdir(mypath) if isfile(join(mypath, f))}\n",
    "file_dateminutes"
   ]
  },
  {
   "cell_type": "code",
   "execution_count": 103,
   "metadata": {},
   "outputs": [
    {
     "data": {
      "text/plain": [
       "{'2020-01-22 11:05': ['C:\\\\Users\\\\Knagaev\\\\Python\\\\LearnPython\\\\rename_by_dates\\\\второй файл.txt',\n",
       "  'C:\\\\Users\\\\Knagaev\\\\Python\\\\LearnPython\\\\rename_by_dates\\\\первый файл.txt'],\n",
       " '2020-01-22 11:12': ['C:\\\\Users\\\\Knagaev\\\\Python\\\\LearnPython\\\\rename_by_dates\\\\третий файл.txt']}"
      ]
     },
     "execution_count": 103,
     "metadata": {},
     "output_type": "execute_result"
    }
   ],
   "source": [
    "files_groupped_by_dateminutes = {}\n",
    "for file_name in file_dateminutes:\n",
    "    if file_dateminutes[file_name] in files_groupped_by_dateminutes:\n",
    "        files_groupped_by_dateminutes[file_dateminutes[file_name]].append(file_name)\n",
    "    else:\n",
    "        files_groupped_by_dateminutes[file_dateminutes[file_name]] = [file_name]\n",
    "\n",
    "files_groupped_by_dateminutes"
   ]
  },
  {
   "cell_type": "code",
   "execution_count": 104,
   "metadata": {},
   "outputs": [
    {
     "data": {
      "text/plain": [
       "{'2020-01-22 11:05': ['C:\\\\Users\\\\Knagaev\\\\Python\\\\LearnPython\\\\rename_by_dates\\\\второй файл.txt',\n",
       "  'C:\\\\Users\\\\Knagaev\\\\Python\\\\LearnPython\\\\rename_by_dates\\\\первый файл.txt'],\n",
       " '2020-01-22 11:12': ['C:\\\\Users\\\\Knagaev\\\\Python\\\\LearnPython\\\\rename_by_dates\\\\третий файл.txt']}"
      ]
     },
     "execution_count": 104,
     "metadata": {},
     "output_type": "execute_result"
    }
   ],
   "source": [
    "# Высший пилотаж\n",
    "from itertools import groupby\n",
    "from operator import itemgetter\n",
    "\n",
    "{k:list(map(itemgetter(0),v)) for k,v in groupby( sorted(file_dateminutes.items(),key=itemgetter(1)), itemgetter(1) )}"
   ]
  },
  {
   "cell_type": "markdown",
   "metadata": {},
   "source": [
    "### Переименование файлов\n",
    "Google -> python 3 file rename\n",
    "\n",
    "https://stackoverflow.com/questions/2491222/how-to-rename-a-file-using-python"
   ]
  },
  {
   "cell_type": "code",
   "execution_count": 105,
   "metadata": {},
   "outputs": [
    {
     "name": "stdout",
     "output_type": "stream",
     "text": [
      "2\n",
      "1\n"
     ]
    }
   ],
   "source": [
    "# проверка на дубли\n",
    "for file_dateminute in files_groupped_by_dateminutes:\n",
    "    print(len(files_groupped_by_dateminutes[file_dateminute]))"
   ]
  },
  {
   "cell_type": "code",
   "execution_count": null,
   "metadata": {},
   "outputs": [],
   "source": []
  }
 ],
 "metadata": {
  "kernelspec": {
   "display_name": "Python 3",
   "language": "python",
   "name": "python3"
  },
  "language_info": {
   "codemirror_mode": {
    "name": "ipython",
    "version": 3
   },
   "file_extension": ".py",
   "mimetype": "text/x-python",
   "name": "python",
   "nbconvert_exporter": "python",
   "pygments_lexer": "ipython3",
   "version": "3.7.4"
  }
 },
 "nbformat": 4,
 "nbformat_minor": 2
}
