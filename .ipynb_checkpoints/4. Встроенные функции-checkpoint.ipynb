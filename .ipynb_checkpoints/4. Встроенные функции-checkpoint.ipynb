{
 "cells": [
  {
   "cell_type": "markdown",
   "metadata": {},
   "source": [
    "# Математические"
   ]
  },
  {
   "cell_type": "markdown",
   "metadata": {},
   "source": [
    "### 1.\n",
    "```python \n",
    "abs(x)\n",
    "```\n",
    "Возвращает абсолютное значение числа. Аргумент может быть целым или числом с плавающей точкой."
   ]
  },
  {
   "cell_type": "code",
   "execution_count": 25,
   "metadata": {},
   "outputs": [
    {
     "name": "stdout",
     "output_type": "stream",
     "text": [
      "Для 2        - абсолютное значение 2\n",
      "Для -3       - абсолютное значение 3\n",
      "Для 4.5      - абсолютное значение 4.5\n",
      "Для -200.765 - абсолютное значение 200.765\n"
     ]
    }
   ],
   "source": [
    "args_for_abs = [2, -3, 4.5, -200.765] \n",
    "for i in args_for_abs:\n",
    "    print(f'Для {i:<8} - абсолютное значение {abs(i)}')"
   ]
  },
  {
   "cell_type": "markdown",
   "metadata": {},
   "source": [
    "### 2.\n",
    "```python \n",
    "class float([x])\n",
    "```\n",
    "Возвращает число с плавающей точкой, созданное из числа или строки x.\n",
    "Чаще всего используется для превращения строки с числом в число с плавающей точкой."
   ]
  },
  {
   "cell_type": "code",
   "execution_count": 27,
   "metadata": {},
   "outputs": [
    {
     "name": "stdout",
     "output_type": "stream",
     "text": [
      "Для 2          - число с плавающей точкой 2.0\n",
      "Для +1.23      - число с плавающей точкой 1.23\n",
      "Для 1e-003     - число с плавающей точкой 0.001\n",
      "Для +1E6       - число с плавающей точкой 1000000.0\n",
      "Для -Infinity  - число с плавающей точкой -inf\n"
     ]
    }
   ],
   "source": [
    "args_for_float = [2, '+1.23', '1e-003', '+1E6', '-Infinity'] \n",
    "for i in args_for_float:\n",
    "    print(f'Для {i:<10} - число с плавающей точкой {float(i)}')"
   ]
  },
  {
   "cell_type": "markdown",
   "metadata": {},
   "source": [
    "### 3.\n",
    "```python \n",
    "class int(x, base=10)\n",
    "```\n",
    "Возвращает целочисленный объект, созданный из числа или строки x.\n",
    "Чаще всего используется для превращения строки с числом в число или отбрасывания дробной части числа с плавающей точкой."
   ]
  },
  {
   "cell_type": "code",
   "execution_count": 16,
   "metadata": {},
   "outputs": [
    {
     "name": "stdout",
     "output_type": "stream",
     "text": [
      "Для 2          - целое число 2\n",
      "Для 7.23       - целое число 7\n",
      "Для 1003       - целое число 1003\n",
      "Для -216       - целое число -216\n",
      "Для FF         - целое число 255\n"
     ]
    }
   ],
   "source": [
    "args_for_int = [2, 7.23, '1003', '-216'] \n",
    "for i in args_for_int:\n",
    "    print(f'Для {i:<10} - целое число {int(i)}')\n",
    "\n",
    "hex_digit = 'FF'\n",
    "print(f'Для {hex_digit:<10} - целое число {int(hex_digit, 16)}')\n"
   ]
  },
  {
   "cell_type": "markdown",
   "metadata": {},
   "source": [
    "### 4.\n",
    "```python \n",
    "round(number[, ndigits])\n",
    "```\n",
    "\n",
    "Возвращает number, округленное до ndigits цифр после десятичной точки. Если ndigits опущен или None, то возвращает ближайшее целое к его вводу."
   ]
  },
  {
   "cell_type": "code",
   "execution_count": 19,
   "metadata": {},
   "outputs": [
    {
     "name": "stdout",
     "output_type": "stream",
     "text": [
      "Для 2.34       - целое число 2\n",
      "Для 9.234234   - целое число 9.2\n",
      "Для 0.24231232 - целое число 0.242312\n"
     ]
    }
   ],
   "source": [
    "args_for_round = [(2.34, None), (9.234234, 1), (0.24231232, 6)] \n",
    "for i, ndig in args_for_round:\n",
    "    print(f'Для {i:<10} - целое число {round(i, ndig)}')\n"
   ]
  },
  {
   "cell_type": "markdown",
   "metadata": {},
   "source": [
    "### 5.\n",
    "```python \n",
    "pow(x, y[, z])\n",
    "```\n",
    "Возвращает x в степени y; если z присутствует, возвращает x в степени y, по модулю z (вычисление более эффективно, чем pow(x, y) % z). Двухаргументная форма pow(x, y) - это эквивалент использования оператора степени: x**y"
   ]
  },
  {
   "cell_type": "code",
   "execution_count": 16,
   "metadata": {},
   "outputs": [
    {
     "name": "stdout",
     "output_type": "stream",
     "text": [
      "Для 2   в степени 3          - 8\n",
      "Для 9   в степени 0.5        - 3.0\n",
      "Для 10  в степени 6          - 1000000\n",
      "Для 2   в степени 5 по модулю 10 - 2\n"
     ]
    }
   ],
   "source": [
    "args_for_pow = [(2, 3), (9, .5), (10, 6)] \n",
    "for base, degree in args_for_pow:\n",
    "    print(f'Для {base:<3} в степени {degree:<10} - {pow(base, degree)}')\n",
    "    \n",
    "print(f'Для {2:<3} в степени 5 по модулю 10 - {pow(2, 5, 10)}')\n",
    "    \n",
    "    "
   ]
  },
  {
   "cell_type": "markdown",
   "metadata": {},
   "source": [
    "# Агрегаторы"
   ]
  },
  {
   "cell_type": "markdown",
   "metadata": {},
   "source": [
    "### 1.\n",
    "```python \n",
    "len(s)\n",
    "```\n",
    "Возвращает длину (число элементов) объекта (iterable)"
   ]
  },
  {
   "cell_type": "code",
   "execution_count": 25,
   "metadata": {},
   "outputs": [
    {
     "name": "stdout",
     "output_type": "stream",
     "text": [
      "Для 2 - длина 1\n",
      "Для 7.23 - длина 4\n",
      "Для [1, 2, 3] - длина 3\n",
      "Для {'a': 1, 'b': 2, 'c': 3, 'd': 4} - длина 4\n",
      "Для range(0, 10) - длина 10\n"
     ]
    }
   ],
   "source": [
    "args_for_len = ['2', '7.23', [1, 2, 3], {'a': 1, 'b':2, 'c': 3, 'd':4}, range(10)] \n",
    "for i in args_for_len:\n",
    "    print(f'Для {i} - длина {len(i)}')"
   ]
  },
  {
   "cell_type": "markdown",
   "metadata": {},
   "source": [
    "### 2.\n",
    "```python\n",
    "max(iterable, *[, key, default])\n",
    "max(arg1, arg2, *args[, key])\n",
    "```\n",
    "\n",
    "Возвращает самый большой элемент в объекте iterable или самый большой из двух или более аргументов."
   ]
  },
  {
   "cell_type": "code",
   "execution_count": 5,
   "metadata": {},
   "outputs": [
    {
     "name": "stdout",
     "output_type": "stream",
     "text": [
      "Для [1, 2, 3] - максимальное 3\n",
      "Для {'a': 1, 'b': 2, 'c': 3, 'd': 4} - максимальное d\n",
      "Для range(0, 10) - максимальное 9\n",
      "Для range(3, 15, 3) - максимальное 12\n"
     ]
    }
   ],
   "source": [
    "args_for_max = [[1, 2, 3], {'a': 1, 'b':2, 'c': 3, 'd':4}, range(10), range(3, 15, 3)] \n",
    "for i in args_for_max:\n",
    "    print(f'Для {i} - максимальное {max(i)}')"
   ]
  },
  {
   "cell_type": "markdown",
   "metadata": {},
   "source": [
    "### 3.\n",
    "```python\n",
    "sum(iterable[, start])\n",
    "```\n",
    "\n",
    "Суммирует от start и элементы iterable слева направо и возвращает сумму. По умолчанию start равен 0."
   ]
  },
  {
   "cell_type": "code",
   "execution_count": 32,
   "metadata": {},
   "outputs": [
    {
     "name": "stdout",
     "output_type": "stream",
     "text": [
      "Для [1, 2, 3] - сумма 6\n",
      "Для {10: 1, 20: 2, 30: 3, 40: 4} - сумма 100\n",
      "Для range(0, 10) - сумма 45\n",
      "Для range(3, 15, 3) - сумма 30\n"
     ]
    }
   ],
   "source": [
    "args_for_sum = [[1, 2, 3], {10: 1, 20: 2, 30: 3, 40: 4}, range(10), range(3, 15, 3)] \n",
    "for i in args_for_sum:\n",
    "    print(f'Для {i} - сумма {sum(i)}')"
   ]
  },
  {
   "cell_type": "code",
   "execution_count": 33,
   "metadata": {},
   "outputs": [
    {
     "ename": "TypeError",
     "evalue": "unsupported operand type(s) for +: 'int' and 'str'",
     "output_type": "error",
     "traceback": [
      "\u001b[1;31m---------------------------------------------------------------------------\u001b[0m",
      "\u001b[1;31mTypeError\u001b[0m                                 Traceback (most recent call last)",
      "\u001b[1;32m<ipython-input-33-1372c3e58df7>\u001b[0m in \u001b[0;36m<module>\u001b[1;34m\u001b[0m\n\u001b[1;32m----> 1\u001b[1;33m \u001b[0msum\u001b[0m\u001b[1;33m(\u001b[0m\u001b[1;33m[\u001b[0m\u001b[1;34m'ку'\u001b[0m\u001b[1;33m,\u001b[0m \u001b[1;34m'ку'\u001b[0m\u001b[1;33m,\u001b[0m \u001b[1;34m'ку'\u001b[0m\u001b[1;33m]\u001b[0m\u001b[1;33m)\u001b[0m\u001b[1;33m\u001b[0m\u001b[1;33m\u001b[0m\u001b[0m\n\u001b[0m",
      "\u001b[1;31mTypeError\u001b[0m: unsupported operand type(s) for +: 'int' and 'str'"
     ]
    }
   ],
   "source": [
    "# для строк не работает\n",
    "sum(['ку', 'ку', 'ку'])"
   ]
  },
  {
   "cell_type": "code",
   "execution_count": 35,
   "metadata": {},
   "outputs": [
    {
     "data": {
      "text/plain": [
       "'ку-ку-ку'"
      ]
     },
     "execution_count": 35,
     "metadata": {},
     "output_type": "execute_result"
    }
   ],
   "source": [
    "# специальная функция для строк\n",
    "'-'.join(['ку', 'ку', 'ку'])"
   ]
  },
  {
   "cell_type": "markdown",
   "metadata": {},
   "source": [
    "# Работа с контейнерами"
   ]
  },
  {
   "cell_type": "markdown",
   "metadata": {},
   "source": [
    "### 1.\n",
    "```python \n",
    "enumerate(iterable, start=0)\n",
    "```\n",
    "\n",
    "Возвращает кортежи с пронумерованными элементами исходного контейнера"
   ]
  },
  {
   "cell_type": "code",
   "execution_count": 43,
   "metadata": {},
   "outputs": [
    {
     "name": "stdout",
     "output_type": "stream",
     "text": [
      "Для [1, 2, 3] - пронумерованный [(0, 1), (1, 2), (2, 3)]\n",
      "Для {'a': 1, 'b': 2, 'c': 3, 'd': 4} - пронумерованный [(0, 'a'), (1, 'b'), (2, 'c'), (3, 'd')]\n",
      "Для range(3, 10) - пронумерованный [(0, 3), (1, 4), (2, 5), (3, 6), (4, 7), (5, 8), (6, 9)]\n"
     ]
    }
   ],
   "source": [
    "args_for_enumerate = [[1, 2, 3], {'a': 1, 'b':2, 'c': 3, 'd':4}, range(3, 10)] \n",
    "for i in args_for_enumerate:\n",
    "    print(f'Для {i} - пронумерованный {[x for x in enumerate(i)]}')"
   ]
  },
  {
   "cell_type": "markdown",
   "metadata": {},
   "source": [
    "### 2.\n",
    "```python \n",
    "sorted(iterable, *, key=None, reverse=False)\n",
    "```\n",
    "Возвращает новый отсортированный список из элементов в iterable."
   ]
  },
  {
   "cell_type": "code",
   "execution_count": 27,
   "metadata": {},
   "outputs": [
    {
     "name": "stdout",
     "output_type": "stream",
     "text": [
      "Для [1, 3, 2] - отсортировано [1, 2, 3]\n",
      "Для {'a': 1, 'c': 2, 'b': 3, 'd': 4} - отсортировано ['a', 'b', 'c', 'd']\n",
      "Для range(0, 10) - отсортировано [0, 1, 2, 3, 4, 5, 6, 7, 8, 9]\n",
      "Для range(3, 15, 3) - отсортировано [3, 6, 9, 12]\n",
      "[('d', 4), ('b', 3), ('c', 2), ('a', 1)]\n"
     ]
    }
   ],
   "source": [
    "args_for_sorted = [[1, 3, 2], {'a': 1, 'c':2, 'b': 3, 'd':4}, range(10), range(3, 15, 3)] \n",
    "for i in args_for_sorted:\n",
    "    print(f'Для {i} - отсортировано {sorted(i)}')\n",
    "    \n",
    "x = {'a': 1, 'c':2, 'b': 3, 'd':4}\n",
    "print(sorted(x.items(), key=lambda item: item[1], reverse=True))"
   ]
  },
  {
   "cell_type": "markdown",
   "metadata": {},
   "source": [
    "### 3.\n",
    "```python\n",
    "zip(*iterables)\n",
    "```\n",
    "\n",
    "Создает итератор, который делает пары элементы от каждого из iterables."
   ]
  },
  {
   "cell_type": "code",
   "execution_count": 51,
   "metadata": {},
   "outputs": [
    {
     "data": {
      "text/plain": [
       "[(1, 50), (3, 30), (2, 2)]"
      ]
     },
     "execution_count": 51,
     "metadata": {},
     "output_type": "execute_result"
    }
   ],
   "source": [
    "arg1_for_zip = [1, 3, 2]\n",
    "arg2_for_zip = [50, 30, 2]\n",
    "[x for x in zip(arg1_for_zip, arg2_for_zip)]"
   ]
  },
  {
   "cell_type": "code",
   "execution_count": 52,
   "metadata": {},
   "outputs": [
    {
     "data": {
      "text/plain": [
       "[(1, 50), (3, 30), (2, 2)]"
      ]
     },
     "execution_count": 52,
     "metadata": {},
     "output_type": "execute_result"
    }
   ],
   "source": [
    "# передача параметров как массив\n",
    "args_for_zip = [[1, 3, 2], [50, 30, 2]] \n",
    "[x for x in zip(*args_for_zip)]"
   ]
  },
  {
   "cell_type": "markdown",
   "metadata": {},
   "source": [
    "# Вывод"
   ]
  },
  {
   "cell_type": "markdown",
   "metadata": {},
   "source": [
    "```python\n",
    "print(*objects, sep=' ', end='\\n', file=sys.stdout, flush=False)\n",
    "```\n",
    "\n",
    "Выводит объекты в текстовый поток file, разделяются sep и завершаются end. sep, end и file если представлены, должны быть даны как аргументы ключевого слова."
   ]
  },
  {
   "cell_type": "code",
   "execution_count": 4,
   "metadata": {},
   "outputs": [
    {
     "name": "stdout",
     "output_type": "stream",
     "text": [
      "2\n",
      "7.23\n",
      "[1, 2, 3]\n",
      "{'a': 1, 'b': 2, 'c': 3, 'd': 4}\n",
      "range(0, 10)\n",
      "range(3, 15, 3)\n"
     ]
    }
   ],
   "source": [
    "args_for_print = ['2', '7.23', [1, 2, 3], {'a': 1, 'b':2, 'c': 3, 'd':4}, range(10), range(3, 15, 3)] \n",
    "for i in args_for_print:\n",
    "    print(i)"
   ]
  }
 ],
 "metadata": {
  "kernelspec": {
   "display_name": "Python 3",
   "language": "python",
   "name": "python3"
  },
  "language_info": {
   "codemirror_mode": {
    "name": "ipython",
    "version": 3
   },
   "file_extension": ".py",
   "mimetype": "text/x-python",
   "name": "python",
   "nbconvert_exporter": "python",
   "pygments_lexer": "ipython3",
   "version": "3.7.4"
  }
 },
 "nbformat": 4,
 "nbformat_minor": 2
}
