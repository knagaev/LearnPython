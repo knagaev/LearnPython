{
 "cells": [
  {
   "cell_type": "markdown",
   "metadata": {},
   "source": [
    "Базовые типы данных, которые можно использовать в Python\n",
    "\n",
    "Логический, может принимать одно из двух значений — True (истина) \n",
    "или False (ложь).\n",
    "\n",
    "Числа, могут быть целыми (1 и 2), с плавающей точкой (1.1 и 1.2), дробными (1/2 и 2/3), и даже комплексными.\n",
    "\n",
    "Строки — последовательности символов Юникода, например, HTML-документ.\n",
    "\n",
    "Байты и массивы байтов, например, файл изображения в формате JPEG.\n",
    "\n",
    "Списки — упорядоченные последовательности значений.\n",
    "\n",
    "Кортежи — упорядоченные неизменяемые последовательности значений. (декомпозиция при присваивании)\n",
    "\n",
    "Множества — неупорядоченные наборы значений.\n",
    "\n",
    "Словари — неупорядоченные наборы пар вида ключ-значение."
   ]
  },
  {
   "cell_type": "markdown",
   "metadata": {},
   "source": [
    "(то же по-английски, что более правильно)\n",
    "Booleans are either True or False.\n",
    "\n",
    "Numbers can be integers (1 and 2), floats (1.1 and 1.2), fractions (1/2 and 2/3), or even complex numbers.\n",
    "\n",
    "Strings are sequences of Unicode characters, e.g. an HTML document.\n",
    "\n",
    "Bytes and byte arrays, e.g. a JPEG image file.\n",
    "\n",
    "Lists are ordered sequences of values.\n",
    "\n",
    "Tuples are ordered, immutable sequences of values.\n",
    "\n",
    "Sets are unordered bags of values.\n",
    "\n",
    "Dictionaries are unordered bags of key-value pairs."
   ]
  },
  {
   "cell_type": "markdown",
   "metadata": {},
   "source": [
    "Вот с этим будем работать"
   ]
  },
  {
   "cell_type": "code",
   "execution_count": null,
   "metadata": {},
   "outputs": [],
   "source": [
    "a_list = ['a', 'b', 'c', 'd', 'e', 'f']"
   ]
  },
  {
   "cell_type": "markdown",
   "metadata": {},
   "source": [
    "Доступ к элементу по индексу\n",
    "Номер элемента в квадратных скобках (он и есть индекс - начинается с нуля)"
   ]
  },
  {
   "cell_type": "code",
   "execution_count": null,
   "metadata": {},
   "outputs": [],
   "source": [
    "a_list[3] # четвёртый элемент"
   ]
  },
  {
   "cell_type": "code",
   "execution_count": null,
   "metadata": {},
   "outputs": [],
   "source": [
    "a_list[2] = 'g' # запись буквы g в третий элемент"
   ]
  },
  {
   "cell_type": "code",
   "execution_count": null,
   "metadata": {},
   "outputs": [],
   "source": [
    "a_list[1: 3] # срез листа - кусочек с второго по третий элемент (четвёртый элемент как правая граница не входит)"
   ]
  },
  {
   "cell_type": "code",
   "execution_count": null,
   "metadata": {},
   "outputs": [],
   "source": [
    "a_list[1: 5: 2] # срез со второго по пятый с шагом два (через один)"
   ]
  },
  {
   "cell_type": "markdown",
   "metadata": {},
   "source": [
    "Дальше пишу просто вызовы, а вы их пытайтесь понять, потом выполняйте в Jupyter и сравнивайте правильно предположили или ошиблись"
   ]
  },
  {
   "cell_type": "code",
   "execution_count": null,
   "metadata": {},
   "outputs": [],
   "source": [
    "a_list[2:]\n",
    "\n",
    "a_list[:4]\n",
    "\n",
    "a_list[::3]\n",
    "\n",
    "a_list[-2]\n",
    "\n",
    "a_list[:]\n",
    "\n",
    "a_list[::2]\n",
    "\n",
    "a_list[1: -2]\n",
    "\n",
    "a_list[:: -1]"
   ]
  }
 ],
 "metadata": {
  "kernelspec": {
   "display_name": "Python 3",
   "language": "python",
   "name": "python3"
  },
  "language_info": {
   "codemirror_mode": {
    "name": "ipython",
    "version": 3
   },
   "file_extension": ".py",
   "mimetype": "text/x-python",
   "name": "python",
   "nbconvert_exporter": "python",
   "pygments_lexer": "ipython3",
   "version": "3.7.4"
  }
 },
 "nbformat": 4,
 "nbformat_minor": 2
}
